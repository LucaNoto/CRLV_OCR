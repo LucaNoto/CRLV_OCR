{
 "cells": [
  {
   "cell_type": "code",
   "execution_count": 195,
   "metadata": {},
   "outputs": [],
   "source": [
    "import pandas as pd\n",
    "import pytesseract\n",
    "from pytesseract import Output\n",
    "import cv2\n",
    "import json\n",
    "from pdf2image import convert_from_path\n",
    "import numpy as np\n",
    "\n",
    "os.environ['TESSDATA_PREFIX'] = '/opt/homebrew/Cellar/tesseract/5.2.0/share/tessdata'\n",
    "multipliersDict = json.load(open('multipliersDict.json'))\n"
   ]
  },
  {
   "cell_type": "code",
   "execution_count": 208,
   "metadata": {},
   "outputs": [
    {
     "name": "stdout",
     "output_type": "stream",
     "text": [
      "FGS8B39_2022.pdf\n",
      "DKR8842_2022.pdf\n",
      "EBB4B49_2022.pdf\n",
      "ENU2816.pdf\n",
      "DOC EEE4618.pdf\n",
      "ESA2554.pdf\n",
      "OAW9991 - CAVALO T1.pdf\n",
      "ECT2365_2022.pdf\n"
     ]
    }
   ],
   "source": [
    "#Converting PDF's to PNG\n",
    "\n",
    "for file in os.listdir('Images'):\n",
    "  if file.split('.')[-1]=='pdf':\n",
    "    print(file)\n",
    "    pdfFile = convert_from_path(f'images/{file}',dpi=400)\n",
    "    \n",
    "    for i in range(len(pdfFile)):\n",
    "        # Save pages as images in the pdf\n",
    "        pdfFile[i].save(f'PNGs/{file.split(\".\")[0]}_page{i}.png', 'PNG')"
   ]
  },
  {
   "cell_type": "code",
   "execution_count": null,
   "metadata": {},
   "outputs": [],
   "source": [
    "filename = 'DKR8842_2022.pdf_page0.png'\n",
    "img = cv2.imread(f'PNGs/{filename}') \n",
    "img = cv2.cvtColor(img, cv2.COLOR_BGR2GRAY)\n",
    "ret,img = cv2.threshold(img,240,255,cv2.THRESH_BINARY)\n",
    "results = pytesseract.image_to_data(img, output_type=Output.DICT,lang='por')\n",
    "img = cv2.cvtColor(img,cv2.COLOR_GRAY2RGB)"
   ]
  },
  {
   "cell_type": "code",
   "execution_count": 201,
   "metadata": {},
   "outputs": [
    {
     "name": "stdout",
     "output_type": "stream",
     "text": [
      "LOTAÇÃO\n",
      "CPF\n",
      "CNPJ\n",
      "COMBUSTÍVEL\n"
     ]
    },
    {
     "data": {
      "text/plain": [
       "True"
      ]
     },
     "execution_count": 201,
     "metadata": {},
     "output_type": "execute_result"
    }
   ],
   "source": [
    "filename = 'DKR8842_2022.pdf_page0.png'\n",
    "img = cv2.imread(f'PNGs/{filename}') \n",
    "img = cv2.cvtColor(img, cv2.COLOR_BGR2GRAY)\n",
    "ret,img = cv2.threshold(img,240,255,cv2.THRESH_BINARY)\n",
    "results = pytesseract.image_to_data(img, output_type=Output.DICT,lang='por')\n",
    "\n",
    "img = cv2.cvtColor(img,cv2.COLOR_GRAY2RGB)\n",
    "\n",
    "\n",
    "keywords = ['COMBUSTÍVEL', 'LOTAÇÃO','CPF','CNPJ']\n",
    "\n",
    "for i in range(0, len(results[\"text\"])):\n",
    "     if results['text'][i] in keywords:\n",
    "        print(results['text'][i])\n",
    "        # We can then extract the bounding box coordinates\n",
    "        # of the text region from  the current result\n",
    "        x = int(results[\"left\"][i])\n",
    "        y = int(results[\"top\"][i])\n",
    "        w = int(results[\"width\"][i])\n",
    "        h = int(results[\"height\"][i])\n",
    "\n",
    "        # We will also extract the OCR text itself along\n",
    "        # with the confidence of the text localization\n",
    "        text = results[\"text\"][i]\n",
    "        conf = int(results[\"conf\"][i])\n",
    "        page_num = results[\"page_num\"][i]\n",
    "        block_num = results[\"block_num\"][i]\n",
    "        par_num = results[\"par_num\"][i]\n",
    "        line_num = results[\"line_num\"][i]\n",
    "        word_num = results[\"word_num\"][i]\n",
    "        cv2.rectangle(img, (int(x), int(y)), (int(x + w), int(y + h)), (0, 0, 255), 10)\n",
    "\n",
    "        # if conf > 0:\n",
    "            \n",
    "            # We will display the confidence and text to\n",
    "            # our terminal\n",
    "            # print(f\"Confidence: {conf}\")\n",
    "            # print(f\"Text: {text}\")\n",
    "            # print(f\"page_num: {page_num}\")\n",
    "            # print(f\"block_num: {block_num}\")\n",
    "            # print(f\"par_num: {par_num}\")\n",
    "            # print(f\"line_num: {line_num}\")\n",
    "            # print(f\"word_num: {word_num}\")\n",
    "            # print(\"\")\n",
    "\n",
    "            \n",
    "            # We then strip out non-ASCII text so we can\n",
    "            # draw the text on the image We will be using\n",
    "            # OpenCV, then draw a bounding box around the\n",
    "            # text along with the text itself\n",
    "            # text = \"\".join(text).strip()\n",
    "            # cv2.rectangle(img, (int(x), int(y)), (int(x + w), int(y + h)), (0, 0, 255), 2)\n",
    "            # cv2.putText(img,\n",
    "            #             text,\n",
    "            #             (x, y - 10),\n",
    "            #             cv2.FONT_HERSHEY_SIMPLEX,\n",
    "            #             1.2, (0, 255, 255), 3)\n",
    "\t\n",
    "cv2.imwrite(f\"Boxes/{filename}\", img)"
   ]
  },
  {
   "cell_type": "code",
   "execution_count": 204,
   "metadata": {},
   "outputs": [],
   "source": [
    "#generating DF with the results from OCR detection and calculating new columns with the space between words\n",
    "\n",
    "df = pd.DataFrame.from_dict(results)\n",
    "df['right'] = df['left']+df['width']\n",
    "df['space'] = np.nan\n",
    "df['key'] = np.nan\n",
    "df['spaceRelativeToHeight'] = np.nan\n",
    "\n",
    "keyList = []\n",
    "spaceRelativeToHeightList = []\n",
    "\n",
    "for i in range(len(df)):\n",
    "    keyList.append(str(df['page_num'][i])+str(df['block_num'][i])+str(df['par_num'][i])+str(df['line_num'][i]))\n",
    "    try:\n",
    "        diff = (df['left'][i+1]-df['right'][i])/df['height'][i]\n",
    "        if diff<0:\n",
    "            diff=0\n",
    "    except:\n",
    "        diff = np.nan\n",
    "\n",
    "    spaceRelativeToHeightList.append(diff)\n",
    "\n",
    "df['containsLower'] = df['text'].str.match(r'(?=.*[a-z])')\n",
    "df['key'] = keyList\n",
    "df['spaceRelativeToHeight'] = spaceRelativeToHeightList"
   ]
  },
  {
   "cell_type": "code",
   "execution_count": 164,
   "metadata": {},
   "outputs": [],
   "source": [
    "#Concatenating nearby words into terms/phrases using new columns calculated\n",
    "\n",
    "dfWords = df[(df['level']==5)&(df['containsLower']==False)&(df['text']!=' ')].reset_index().drop(columns=['index'])\n",
    "\n",
    "phrases={}\n",
    "phrase=''\n",
    "currentKey = dfWords['key'][0]\n",
    "left = dfWords['left'][0]\n",
    "top = dfWords['top'][0]\n",
    "width = dfWords['width'][0]\n",
    "height = dfWords['height'][0]\n",
    "\n",
    "width=0\n",
    "\n",
    "\n",
    "for i in range(len(dfWords)):\n",
    "    if (dfWords['spaceRelativeToHeight'][i]<=1) and (dfWords['key'][i]==currentKey):\n",
    "        phrase+=(dfWords['text'][i]+' ')\n",
    "        width+=dfWords['width'][i]\n",
    "    else:\n",
    "        phrases[phrase.strip()] = {'left':left, 'top':top, 'width':width, 'height':height}\n",
    "\n",
    "        currentKey = dfWords['key'][i]\n",
    "        left= dfWords['left'][i]\n",
    "        top= dfWords['top'][i]\n",
    "        height= dfWords['height'][i]\n",
    "        width= dfWords['width'][i]\n",
    "        phrase = (dfWords['text'][i]+' ')"
   ]
  },
  {
   "cell_type": "code",
   "execution_count": 200,
   "metadata": {},
   "outputs": [
    {
     "data": {
      "text/plain": [
       "True"
      ]
     },
     "execution_count": 200,
     "metadata": {},
     "output_type": "execute_result"
    }
   ],
   "source": [
    "#Plotting the rectangles over identified terms, using multiplier values \n",
    "\n",
    "img2 = cv2.imread('PNGs/DKR8842_2022.pdf_page0.png')\n",
    "for i in phrases.keys():\n",
    "    if i in multipliersDict.keys():\n",
    "        \n",
    "        cv2.rectangle(img2, (int(phrases[i]['left']),\n",
    "                             int(phrases[i]['top'])), \n",
    "                             (int(phrases[i]['left'] + multipliersDict[i]['width']*(phrases[i]['width'])), \n",
    "                              int(phrases[i]['top'] + multipliersDict[i]['height']*(phrases[i]['height']))), (0, 0, 255), 7)\n",
    "cv2.imwrite(\"resultBoxes2.png\", img2)"
   ]
  },
  {
   "cell_type": "code",
   "execution_count": null,
   "metadata": {},
   "outputs": [],
   "source": []
  }
 ],
 "metadata": {
  "kernelspec": {
   "display_name": "Python 3.9.13 64-bit",
   "language": "python",
   "name": "python3"
  },
  "language_info": {
   "codemirror_mode": {
    "name": "ipython",
    "version": 3
   },
   "file_extension": ".py",
   "mimetype": "text/x-python",
   "name": "python",
   "nbconvert_exporter": "python",
   "pygments_lexer": "ipython3",
   "version": "3.10.8"
  },
  "orig_nbformat": 4,
  "vscode": {
   "interpreter": {
    "hash": "b0fa6594d8f4cbf19f97940f81e996739fb7646882a419484c72d19e05852a7e"
   }
  }
 },
 "nbformat": 4,
 "nbformat_minor": 2
}
